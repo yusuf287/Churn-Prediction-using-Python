{
 "cells": [
  {
   "cell_type": "markdown",
   "metadata": {},
   "source": [
    "## Problem Statement:\n",
    "\n",
    "** Explore the datasets and develop a model to predict customer churn over time. **\n",
    "\n",
    "**By:** Yusuf Firoz"
   ]
  },
  {
   "cell_type": "raw",
   "metadata": {},
   "source": [
    "The process is divided the whole model building into 3 parts:\n",
    "    Step 1. Data PreProcessing\n",
    "    Step 2. Final Dataset Prepearation\n",
    "    Step 3. Model Building and Prediction"
   ]
  },
  {
   "cell_type": "markdown",
   "metadata": {},
   "source": [
    "## Step 1: Data PreProcessing"
   ]
  },
  {
   "cell_type": "raw",
   "metadata": {},
   "source": [
    "Following steps have been followed in this part:\n",
    "    1. Import required Libraries.\n",
    "    2. Import all the 4 csv file into pandas dataframe.\n",
    "        a. Data Explration\n",
    "        b. Data Cleaning\n",
    "        c. Feature Insights\n",
    "        d. Feature Engineering\n",
    "    3. Save the processed file as Pickle object to directly use in Step 2 for building final dataset."
   ]
  },
  {
   "cell_type": "markdown",
   "metadata": {},
   "source": [
    "#### Import required libraries"
   ]
  },
  {
   "cell_type": "code",
   "execution_count": 1,
   "metadata": {
    "collapsed": true
   },
   "outputs": [],
   "source": [
    "import numpy as np\n",
    "import pandas as pd\n",
    "from datetime import datetime\n",
    "from time import time\n",
    "import pickle"
   ]
  },
  {
   "cell_type": "markdown",
   "metadata": {},
   "source": [
    "#### Import all the CSV files"
   ]
  },
  {
   "cell_type": "code",
   "execution_count": 2,
   "metadata": {
    "collapsed": false
   },
   "outputs": [],
   "source": [
    "boxes = pd.read_csv('boxes.csv')\n",
    "cancels = pd.read_csv('cancels.csv')\n",
    "errors = pd.read_csv('errors.csv')\n",
    "pauses = pd.read_csv('pauses.csv')"
   ]
  },
  {
   "cell_type": "markdown",
   "metadata": {},
   "source": [
    "## Pauses Table"
   ]
  },
  {
   "cell_type": "markdown",
   "metadata": {
    "collapsed": false
   },
   "source": [
    "** Data Explration **\n",
    "* This table has 3 columns named **'subscription_id'**,\t**'pause_start'**',\t**'pause_end'**\n",
    "* **'pause_start'** and **'pause_end'** are given as string which needs to be converted to Timestamp \n",
    "\n",
    "** Data Cleaning **\n",
    "* '2017-01-06' value in  **'pause_end'** is mistyped as '2016-01-06'. Correction is done.\n",
    "\n",
    "** Feature Engineering **\n",
    "* Duration between the first and last pause will be calculated.\n",
    "* Total No of pauses between that duration will be calculated.\n",
    "\n",
    "** Feature Insights **\n",
    "* **First_pause_start**: When Pause occured for the first time.\n",
    "* **Last_pause_end**: When Pause occured for the last time.\n",
    "* **Total_pause_duration**: Duration between the first and last pause.\n",
    "* **Total_no_of_Pauses**: Total no of pauses between that duration.\n",
    "\n",
    "* Divide the Total_pause_duration by Total_no_of_Pauses to maintain the scale."
   ]
  },
  {
   "cell_type": "code",
   "execution_count": 3,
   "metadata": {
    "collapsed": false
   },
   "outputs": [
    {
     "data": {
      "text/html": [
       "<div>\n",
       "<table border=\"1\" class=\"dataframe\">\n",
       "  <thead>\n",
       "    <tr style=\"text-align: right;\">\n",
       "      <th></th>\n",
       "      <th>subscription_id</th>\n",
       "      <th>pause_start</th>\n",
       "      <th>pause_end</th>\n",
       "    </tr>\n",
       "  </thead>\n",
       "  <tbody>\n",
       "    <tr>\n",
       "      <th>0</th>\n",
       "      <td>1000001.0</td>\n",
       "      <td>2015-02-09</td>\n",
       "      <td>2015-02-15</td>\n",
       "    </tr>\n",
       "    <tr>\n",
       "      <th>1</th>\n",
       "      <td>1000001.0</td>\n",
       "      <td>2014-11-24</td>\n",
       "      <td>2014-11-30</td>\n",
       "    </tr>\n",
       "    <tr>\n",
       "      <th>2</th>\n",
       "      <td>1000001.0</td>\n",
       "      <td>2015-02-02</td>\n",
       "      <td>2015-02-08</td>\n",
       "    </tr>\n",
       "    <tr>\n",
       "      <th>3</th>\n",
       "      <td>1000001.0</td>\n",
       "      <td>2015-02-16</td>\n",
       "      <td>2015-02-22</td>\n",
       "    </tr>\n",
       "    <tr>\n",
       "      <th>4</th>\n",
       "      <td>1000001.0</td>\n",
       "      <td>2015-01-12</td>\n",
       "      <td>2015-01-18</td>\n",
       "    </tr>\n",
       "  </tbody>\n",
       "</table>\n",
       "</div>"
      ],
      "text/plain": [
       "   subscription_id pause_start   pause_end\n",
       "0        1000001.0  2015-02-09  2015-02-15\n",
       "1        1000001.0  2014-11-24  2014-11-30\n",
       "2        1000001.0  2015-02-02  2015-02-08\n",
       "3        1000001.0  2015-02-16  2015-02-22\n",
       "4        1000001.0  2015-01-12  2015-01-18"
      ]
     },
     "execution_count": 3,
     "metadata": {},
     "output_type": "execute_result"
    }
   ],
   "source": [
    "pauses.head()"
   ]
  },
  {
   "cell_type": "code",
   "execution_count": null,
   "metadata": {
    "collapsed": false
   },
   "outputs": [],
   "source": [
    "#Convert 'pause_start' and 'pause_end' to Timestamp.\n",
    "pauses.iloc[:,1] = pd.to_datetime(pauses.iloc[:,1], format='%Y-%m-%d')\n",
    "pauses.iloc[:,2] = pd.to_datetime(pauses.iloc[:,2], format='%Y-%m-%d')\n",
    "\n",
    "#Add columns named 'Total_pause_duration' of each subscriber. \n",
    "pauses['Total_pause_duration'] = pauses['pause_end'].subtract(pauses['pause_start']) \n",
    "\n",
    "# '2017-01-06' is mistyped as '2016-01-06'\n",
    "pauses['pause_end'][pauses.Total_pause_duration == '-360 days'] = '2017-01-06'\n",
    "\n",
    "#Convert 'pause_end to Timestamp again.\n",
    "pauses.iloc[:,2] = pd.to_datetime(pauses.iloc[:,2], format='%Y-%m-%d')\n",
    "\n",
    "#Calculate 'Total_pause_duration' again\n",
    "pauses['Total_pause_duration'] = pauses['pause_end'].subtract(pauses['pause_start']) \n",
    "\n",
    "\n",
    "#We can take standard Deviation or average in place of min and max of 'Total_pause_duration'. It might get us better result\n",
    "pauses_groupby = pauses.groupby('subscription_id').agg({'pause_start':['min', 'size'], 'pause_end':['max'], 'Total_pause_duration':['sum']}).reset_index() \n",
    "\n",
    "#Naming columns\n",
    "pauses_groupby.columns = ['subscription_id','First_pause_start','Total_no_of_Pauses','Last_pause_end', 'Total_pause_duration']\n",
    "\n"
   ]
  },
  {
   "cell_type": "code",
   "execution_count": 5,
   "metadata": {
    "collapsed": false
   },
   "outputs": [
    {
     "data": {
      "text/html": [
       "<div>\n",
       "<table border=\"1\" class=\"dataframe\">\n",
       "  <thead>\n",
       "    <tr style=\"text-align: right;\">\n",
       "      <th></th>\n",
       "      <th>subscription_id</th>\n",
       "      <th>First_pause_start</th>\n",
       "      <th>Total_no_of_Pauses</th>\n",
       "      <th>Last_pause_end</th>\n",
       "      <th>Total_pause_duration</th>\n",
       "    </tr>\n",
       "  </thead>\n",
       "  <tbody>\n",
       "    <tr>\n",
       "      <th>0</th>\n",
       "      <td>1000001.0</td>\n",
       "      <td>2014-11-24</td>\n",
       "      <td>10</td>\n",
       "      <td>2015-03-01</td>\n",
       "      <td>60 days</td>\n",
       "    </tr>\n",
       "    <tr>\n",
       "      <th>1</th>\n",
       "      <td>1000002.0</td>\n",
       "      <td>2012-12-17</td>\n",
       "      <td>1</td>\n",
       "      <td>2012-12-23</td>\n",
       "      <td>6 days</td>\n",
       "    </tr>\n",
       "    <tr>\n",
       "      <th>2</th>\n",
       "      <td>1000003.0</td>\n",
       "      <td>2012-11-12</td>\n",
       "      <td>15</td>\n",
       "      <td>2013-05-19</td>\n",
       "      <td>90 days</td>\n",
       "    </tr>\n",
       "    <tr>\n",
       "      <th>3</th>\n",
       "      <td>1000004.0</td>\n",
       "      <td>2012-12-10</td>\n",
       "      <td>15</td>\n",
       "      <td>2013-10-20</td>\n",
       "      <td>90 days</td>\n",
       "    </tr>\n",
       "    <tr>\n",
       "      <th>4</th>\n",
       "      <td>1000005.0</td>\n",
       "      <td>2013-03-25</td>\n",
       "      <td>1</td>\n",
       "      <td>2013-03-31</td>\n",
       "      <td>6 days</td>\n",
       "    </tr>\n",
       "  </tbody>\n",
       "</table>\n",
       "</div>"
      ],
      "text/plain": [
       "   subscription_id First_pause_start  Total_no_of_Pauses Last_pause_end  \\\n",
       "0        1000001.0        2014-11-24                  10     2015-03-01   \n",
       "1        1000002.0        2012-12-17                   1     2012-12-23   \n",
       "2        1000003.0        2012-11-12                  15     2013-05-19   \n",
       "3        1000004.0        2012-12-10                  15     2013-10-20   \n",
       "4        1000005.0        2013-03-25                   1     2013-03-31   \n",
       "\n",
       "   Total_pause_duration  \n",
       "0               60 days  \n",
       "1                6 days  \n",
       "2               90 days  \n",
       "3               90 days  \n",
       "4                6 days  "
      ]
     },
     "execution_count": 5,
     "metadata": {},
     "output_type": "execute_result"
    }
   ],
   "source": [
    "pauses_groupby.head()"
   ]
  },
  {
   "cell_type": "markdown",
   "metadata": {},
   "source": [
    "** Pickle file for Pauses** "
   ]
  },
  {
   "cell_type": "code",
   "execution_count": 6,
   "metadata": {
    "collapsed": false
   },
   "outputs": [],
   "source": [
    "#Create pickle file for Pauses datset\n",
    "with open('pauses.pickle', 'wb') as f:\n",
    "    pickle.dump(pauses_groupby, f)"
   ]
  },
  {
   "cell_type": "markdown",
   "metadata": {},
   "source": [
    "# Errors Tables"
   ]
  },
  {
   "cell_type": "markdown",
   "metadata": {},
   "source": [
    "** Data Explration **\n",
    "* This table has 6 columns named **'subscription_id'**,\t**'reported_date'**', **'hellofresh_week_where_error_happened'**, **'compensation_type'**, **'compensation_amount'**\n",
    "* **'reported_date'** is given as string which needs to be converted to Timestamp \n",
    "\n",
    "\n",
    "\n",
    "** Data Cleaning **\n",
    "* In **'compensation_type'**, one value is given in two ways, i.e. 'full_refund' and 'full refund'. Remove this ambiguity.\n",
    "\n",
    "** Feature Engineering **\n",
    "* Convert the **compensation_type** and **compensation_amount** to numerical features using one-hot encoding scheme. It is  creating dummy variables for all the classes of categorical featues.\n",
    "\n",
    "\n",
    "** Feature Insights **\n",
    "* **first_reported_date**: When was the first conflict happened.\n",
    "* **last_reported_date**: When was the last conflict happened.\n",
    "* **no_of_conflict**: Total no of conflicts or issues occured with a subscriber.\n",
    "* **'total_CA', 'max_CA','min_CA','mean_CA'**: Dummy variables for **compensation_amount**\n",
    "* **''credit', 'full_refund','none','partial_refund','refund','sorry'**: Dummy variables for **compensation_type**\n",
    "\n",
    "\n"
   ]
  },
  {
   "cell_type": "code",
   "execution_count": 7,
   "metadata": {
    "collapsed": false,
    "scrolled": true
   },
   "outputs": [
    {
     "data": {
      "text/html": [
       "<div>\n",
       "<table border=\"1\" class=\"dataframe\">\n",
       "  <thead>\n",
       "    <tr style=\"text-align: right;\">\n",
       "      <th></th>\n",
       "      <th>subscription_id</th>\n",
       "      <th>reported_date</th>\n",
       "      <th>hellofresh_week_where_error_happened</th>\n",
       "      <th>compensation_type</th>\n",
       "      <th>compensation_amount</th>\n",
       "    </tr>\n",
       "  </thead>\n",
       "  <tbody>\n",
       "    <tr>\n",
       "      <th>0</th>\n",
       "      <td>1000001</td>\n",
       "      <td>2014-12-05</td>\n",
       "      <td>2014-W49</td>\n",
       "      <td>credit</td>\n",
       "      <td>10.0</td>\n",
       "    </tr>\n",
       "    <tr>\n",
       "      <th>1</th>\n",
       "      <td>1000010</td>\n",
       "      <td>2015-06-09</td>\n",
       "      <td>2015-W31</td>\n",
       "      <td>credit</td>\n",
       "      <td>25.0</td>\n",
       "    </tr>\n",
       "    <tr>\n",
       "      <th>2</th>\n",
       "      <td>1000010</td>\n",
       "      <td>2015-04-02</td>\n",
       "      <td>2015-W16</td>\n",
       "      <td>credit</td>\n",
       "      <td>25.0</td>\n",
       "    </tr>\n",
       "    <tr>\n",
       "      <th>3</th>\n",
       "      <td>1000010</td>\n",
       "      <td>2016-02-17</td>\n",
       "      <td>2016-W07</td>\n",
       "      <td>full_refund</td>\n",
       "      <td>69.0</td>\n",
       "    </tr>\n",
       "    <tr>\n",
       "      <th>4</th>\n",
       "      <td>1000012</td>\n",
       "      <td>2015-05-28</td>\n",
       "      <td>2015-W22</td>\n",
       "      <td>credit</td>\n",
       "      <td>34.5</td>\n",
       "    </tr>\n",
       "  </tbody>\n",
       "</table>\n",
       "</div>"
      ],
      "text/plain": [
       "   subscription_id reported_date hellofresh_week_where_error_happened  \\\n",
       "0          1000001    2014-12-05                             2014-W49   \n",
       "1          1000010    2015-06-09                             2015-W31   \n",
       "2          1000010    2015-04-02                             2015-W16   \n",
       "3          1000010    2016-02-17                             2016-W07   \n",
       "4          1000012    2015-05-28                             2015-W22   \n",
       "\n",
       "  compensation_type  compensation_amount  \n",
       "0            credit                 10.0  \n",
       "1            credit                 25.0  \n",
       "2            credit                 25.0  \n",
       "3       full_refund                 69.0  \n",
       "4            credit                 34.5  "
      ]
     },
     "execution_count": 7,
     "metadata": {},
     "output_type": "execute_result"
    }
   ],
   "source": [
    "errors.head(5)"
   ]
  },
  {
   "cell_type": "code",
   "execution_count": 8,
   "metadata": {
    "collapsed": false
   },
   "outputs": [],
   "source": [
    "#Convert to timestamp\n",
    "errors.iloc[:,1] = pd.to_datetime(errors.iloc[:,1], format='%Y-%m-%d')\n",
    "\n",
    "#Remove ambiguity of 'full_refund' and 'full refund'\n",
    "errors['compensation_type'] = errors['compensation_type'].replace(['full refund'], 'full_refund')\n",
    "\n",
    "#creating  dummy variables for categorical attribute 'errors_compensation_type'. We can remove one column to avoid collinearity.\n",
    "errors_compensation_type = pd.get_dummies(errors.iloc[:,3])\n",
    "\n",
    "#concatenate dummy variables\n",
    "errors_concat = pd.concat([errors, errors_compensation_type], axis=1)\n",
    "\n",
    "#Group by using 'subscription_id' and creating new features\n",
    "errors_groupby = errors_concat.groupby('subscription_id').agg({'reported_date' : ['min','max'], \n",
    "                                                               'compensation_amount' : ['sum','max','min','mean','size'], \n",
    "                                                               'credit':['sum'], 'full_refund':['sum'], 'none':['sum'], \n",
    "                                                               'partial_refund':['sum'], 'refund':['sum'], \n",
    "                                                               'sorry':['sum']}).reset_index()\n",
    "\n",
    "#Column renaming\n",
    "errors_groupby.columns = ['subscription_id','first_reported_date','last_reported_date','total_CA', 'max_CA','min_CA','mean_CA','no_of_conflict', \n",
    "                          'credit', 'full_refund','none','partial_refund','refund','sorry' ]"
   ]
  },
  {
   "cell_type": "code",
   "execution_count": 9,
   "metadata": {
    "collapsed": false
   },
   "outputs": [
    {
     "data": {
      "text/html": [
       "<div>\n",
       "<table border=\"1\" class=\"dataframe\">\n",
       "  <thead>\n",
       "    <tr style=\"text-align: right;\">\n",
       "      <th></th>\n",
       "      <th>subscription_id</th>\n",
       "      <th>first_reported_date</th>\n",
       "      <th>last_reported_date</th>\n",
       "      <th>total_CA</th>\n",
       "      <th>max_CA</th>\n",
       "      <th>min_CA</th>\n",
       "      <th>mean_CA</th>\n",
       "      <th>no_of_conflict</th>\n",
       "      <th>credit</th>\n",
       "      <th>full_refund</th>\n",
       "      <th>none</th>\n",
       "      <th>partial_refund</th>\n",
       "      <th>refund</th>\n",
       "      <th>sorry</th>\n",
       "    </tr>\n",
       "  </thead>\n",
       "  <tbody>\n",
       "    <tr>\n",
       "      <th>0</th>\n",
       "      <td>1000001</td>\n",
       "      <td>2014-12-05</td>\n",
       "      <td>2014-12-05</td>\n",
       "      <td>10.0</td>\n",
       "      <td>10.0</td>\n",
       "      <td>10.0</td>\n",
       "      <td>10.000000</td>\n",
       "      <td>1</td>\n",
       "      <td>1</td>\n",
       "      <td>0</td>\n",
       "      <td>0</td>\n",
       "      <td>0</td>\n",
       "      <td>0</td>\n",
       "      <td>0</td>\n",
       "    </tr>\n",
       "    <tr>\n",
       "      <th>1</th>\n",
       "      <td>1000010</td>\n",
       "      <td>2015-04-02</td>\n",
       "      <td>2016-02-17</td>\n",
       "      <td>119.0</td>\n",
       "      <td>69.0</td>\n",
       "      <td>25.0</td>\n",
       "      <td>39.666667</td>\n",
       "      <td>3</td>\n",
       "      <td>2</td>\n",
       "      <td>1</td>\n",
       "      <td>0</td>\n",
       "      <td>0</td>\n",
       "      <td>0</td>\n",
       "      <td>0</td>\n",
       "    </tr>\n",
       "    <tr>\n",
       "      <th>2</th>\n",
       "      <td>1000012</td>\n",
       "      <td>2015-03-08</td>\n",
       "      <td>2015-05-28</td>\n",
       "      <td>138.0</td>\n",
       "      <td>34.5</td>\n",
       "      <td>34.5</td>\n",
       "      <td>34.500000</td>\n",
       "      <td>4</td>\n",
       "      <td>4</td>\n",
       "      <td>0</td>\n",
       "      <td>0</td>\n",
       "      <td>0</td>\n",
       "      <td>0</td>\n",
       "      <td>0</td>\n",
       "    </tr>\n",
       "    <tr>\n",
       "      <th>3</th>\n",
       "      <td>1000018</td>\n",
       "      <td>2015-10-20</td>\n",
       "      <td>2015-10-20</td>\n",
       "      <td>34.5</td>\n",
       "      <td>34.5</td>\n",
       "      <td>34.5</td>\n",
       "      <td>34.500000</td>\n",
       "      <td>1</td>\n",
       "      <td>1</td>\n",
       "      <td>0</td>\n",
       "      <td>0</td>\n",
       "      <td>0</td>\n",
       "      <td>0</td>\n",
       "      <td>0</td>\n",
       "    </tr>\n",
       "    <tr>\n",
       "      <th>4</th>\n",
       "      <td>1000022</td>\n",
       "      <td>2017-02-07</td>\n",
       "      <td>2017-02-07</td>\n",
       "      <td>69.0</td>\n",
       "      <td>69.0</td>\n",
       "      <td>69.0</td>\n",
       "      <td>69.000000</td>\n",
       "      <td>1</td>\n",
       "      <td>1</td>\n",
       "      <td>0</td>\n",
       "      <td>0</td>\n",
       "      <td>0</td>\n",
       "      <td>0</td>\n",
       "      <td>0</td>\n",
       "    </tr>\n",
       "  </tbody>\n",
       "</table>\n",
       "</div>"
      ],
      "text/plain": [
       "   subscription_id first_reported_date last_reported_date  total_CA  max_CA  \\\n",
       "0          1000001          2014-12-05         2014-12-05      10.0    10.0   \n",
       "1          1000010          2015-04-02         2016-02-17     119.0    69.0   \n",
       "2          1000012          2015-03-08         2015-05-28     138.0    34.5   \n",
       "3          1000018          2015-10-20         2015-10-20      34.5    34.5   \n",
       "4          1000022          2017-02-07         2017-02-07      69.0    69.0   \n",
       "\n",
       "   min_CA    mean_CA  no_of_conflict  credit  full_refund  none  \\\n",
       "0    10.0  10.000000               1       1            0     0   \n",
       "1    25.0  39.666667               3       2            1     0   \n",
       "2    34.5  34.500000               4       4            0     0   \n",
       "3    34.5  34.500000               1       1            0     0   \n",
       "4    69.0  69.000000               1       1            0     0   \n",
       "\n",
       "   partial_refund  refund  sorry  \n",
       "0               0       0      0  \n",
       "1               0       0      0  \n",
       "2               0       0      0  \n",
       "3               0       0      0  \n",
       "4               0       0      0  "
      ]
     },
     "execution_count": 9,
     "metadata": {},
     "output_type": "execute_result"
    }
   ],
   "source": [
    "errors_groupby.head()"
   ]
  },
  {
   "cell_type": "markdown",
   "metadata": {},
   "source": [
    "** Pickle file for Errors** "
   ]
  },
  {
   "cell_type": "code",
   "execution_count": 10,
   "metadata": {
    "collapsed": false
   },
   "outputs": [],
   "source": [
    "#Create pickle file for Errors datset\n",
    "with open('errors.pickle', 'wb') as f:\n",
    "    pickle.dump(errors_groupby, f)"
   ]
  },
  {
   "cell_type": "markdown",
   "metadata": {},
   "source": [
    "# Boxes Table"
   ]
  },
  {
   "cell_type": "markdown",
   "metadata": {},
   "source": [
    "** Data Explration **\n",
    "* This table has 5 columns named **'subscription_id'**,\t**'delivery_date'**',\t**'started_week'**,\t**'product'**,\t**'channel'**\n",
    "* **'delivery_date'** is given as string which needs to be converted to Timestamp \n",
    "\n",
    "\n",
    "** Data Cleaning **\n",
    "* **'started_week'** could be converted to timestamp to get one more features..\n",
    "\n",
    "** Feature Engineering **\n",
    "* Duration between the first and last delivery date for each subscriber will be calculated.\n",
    "* Total no of delivery for each subscriber is calculated.\n",
    "* Convert the **channel** and **product** to numerical features using one-hot encoding scheme. It is  creating dummy variables for all the classes of categorical featues.\n",
    "\n",
    "\n",
    "\n",
    "** Feature Insights **\n",
    "* **First_delivery_date**: When Pause occured for the first time.\n",
    "* **Last_delivery_date**: When Pause occured for the last time.\n",
    "* **No_of_boxes**: No of boxes delivered to the customer.\n",
    "* **type1, type2,.. **: Dummy variables for **channel**\n",
    "* **Product1, Product2, .. **: Dummy variables for **product**\n"
   ]
  },
  {
   "cell_type": "code",
   "execution_count": 11,
   "metadata": {
    "collapsed": false
   },
   "outputs": [
    {
     "data": {
      "text/html": [
       "<div>\n",
       "<table border=\"1\" class=\"dataframe\">\n",
       "  <thead>\n",
       "    <tr style=\"text-align: right;\">\n",
       "      <th></th>\n",
       "      <th>subscription_id</th>\n",
       "      <th>box_id</th>\n",
       "      <th>delivery_date</th>\n",
       "      <th>started_week</th>\n",
       "      <th>product</th>\n",
       "      <th>channel</th>\n",
       "    </tr>\n",
       "  </thead>\n",
       "  <tbody>\n",
       "    <tr>\n",
       "      <th>0</th>\n",
       "      <td>1000001.0</td>\n",
       "      <td>US243134</td>\n",
       "      <td>2014-11-10</td>\n",
       "      <td>2012-W36</td>\n",
       "      <td>type2</td>\n",
       "      <td>channel16</td>\n",
       "    </tr>\n",
       "    <tr>\n",
       "      <th>1</th>\n",
       "      <td>1000001.0</td>\n",
       "      <td>US287248</td>\n",
       "      <td>2014-12-08</td>\n",
       "      <td>2012-W36</td>\n",
       "      <td>type2</td>\n",
       "      <td>channel16</td>\n",
       "    </tr>\n",
       "    <tr>\n",
       "      <th>2</th>\n",
       "      <td>1000001.0</td>\n",
       "      <td>US369486</td>\n",
       "      <td>2015-01-19</td>\n",
       "      <td>2012-W36</td>\n",
       "      <td>type2</td>\n",
       "      <td>channel16</td>\n",
       "    </tr>\n",
       "    <tr>\n",
       "      <th>3</th>\n",
       "      <td>1000001.0</td>\n",
       "      <td>US299749</td>\n",
       "      <td>2014-12-15</td>\n",
       "      <td>2012-W36</td>\n",
       "      <td>type2</td>\n",
       "      <td>channel16</td>\n",
       "    </tr>\n",
       "    <tr>\n",
       "      <th>4</th>\n",
       "      <td>1000001.0</td>\n",
       "      <td>US254024</td>\n",
       "      <td>2014-11-17</td>\n",
       "      <td>2012-W36</td>\n",
       "      <td>type2</td>\n",
       "      <td>channel16</td>\n",
       "    </tr>\n",
       "  </tbody>\n",
       "</table>\n",
       "</div>"
      ],
      "text/plain": [
       "   subscription_id    box_id delivery_date started_week product    channel\n",
       "0        1000001.0  US243134    2014-11-10     2012-W36   type2  channel16\n",
       "1        1000001.0  US287248    2014-12-08     2012-W36   type2  channel16\n",
       "2        1000001.0  US369486    2015-01-19     2012-W36   type2  channel16\n",
       "3        1000001.0  US299749    2014-12-15     2012-W36   type2  channel16\n",
       "4        1000001.0  US254024    2014-11-17     2012-W36   type2  channel16"
      ]
     },
     "execution_count": 11,
     "metadata": {},
     "output_type": "execute_result"
    }
   ],
   "source": [
    "boxes.head()"
   ]
  },
  {
   "cell_type": "code",
   "execution_count": null,
   "metadata": {
    "collapsed": false
   },
   "outputs": [],
   "source": [
    "## Note: Week Handling\n",
    "## Check all the null columns\n",
    "## There are few null in Week Column. Need to correct that.\n",
    "boxes['started_week'][boxes['subscription_id']==1654222.0] = '2017-W09'\n",
    "\n",
    "#Splitting 'started_week' into year and week to get Timestamp.\n",
    "boxes['year'], boxes['week'] = boxes['started_week'].str.split('-', 1).str\n",
    "#Extract Week\n",
    "boxes['week'] = boxes['week'].str[1:]\n",
    "#Convert to int type\n",
    "boxes['week'] = boxes['week'].apply(int)\n",
    "boxes['year'] = boxes['year'].apply(int)"
   ]
  },
  {
   "cell_type": "code",
   "execution_count": 19,
   "metadata": {
    "collapsed": false
   },
   "outputs": [
    {
     "data": {
      "text/html": [
       "<div>\n",
       "<table border=\"1\" class=\"dataframe\">\n",
       "  <thead>\n",
       "    <tr style=\"text-align: right;\">\n",
       "      <th></th>\n",
       "      <th>subscription_id</th>\n",
       "      <th>box_id</th>\n",
       "      <th>delivery_date</th>\n",
       "      <th>started_week</th>\n",
       "      <th>product</th>\n",
       "      <th>channel</th>\n",
       "      <th>year</th>\n",
       "      <th>week</th>\n",
       "    </tr>\n",
       "  </thead>\n",
       "  <tbody>\n",
       "    <tr>\n",
       "      <th>0</th>\n",
       "      <td>1000001.0</td>\n",
       "      <td>US243134</td>\n",
       "      <td>2014-11-10</td>\n",
       "      <td>2012-W36</td>\n",
       "      <td>type2</td>\n",
       "      <td>channel16</td>\n",
       "      <td>2012</td>\n",
       "      <td>36</td>\n",
       "    </tr>\n",
       "    <tr>\n",
       "      <th>1</th>\n",
       "      <td>1000001.0</td>\n",
       "      <td>US287248</td>\n",
       "      <td>2014-12-08</td>\n",
       "      <td>2012-W36</td>\n",
       "      <td>type2</td>\n",
       "      <td>channel16</td>\n",
       "      <td>2012</td>\n",
       "      <td>36</td>\n",
       "    </tr>\n",
       "    <tr>\n",
       "      <th>2</th>\n",
       "      <td>1000001.0</td>\n",
       "      <td>US369486</td>\n",
       "      <td>2015-01-19</td>\n",
       "      <td>2012-W36</td>\n",
       "      <td>type2</td>\n",
       "      <td>channel16</td>\n",
       "      <td>2012</td>\n",
       "      <td>36</td>\n",
       "    </tr>\n",
       "    <tr>\n",
       "      <th>3</th>\n",
       "      <td>1000001.0</td>\n",
       "      <td>US299749</td>\n",
       "      <td>2014-12-15</td>\n",
       "      <td>2012-W36</td>\n",
       "      <td>type2</td>\n",
       "      <td>channel16</td>\n",
       "      <td>2012</td>\n",
       "      <td>36</td>\n",
       "    </tr>\n",
       "    <tr>\n",
       "      <th>4</th>\n",
       "      <td>1000001.0</td>\n",
       "      <td>US254024</td>\n",
       "      <td>2014-11-17</td>\n",
       "      <td>2012-W36</td>\n",
       "      <td>type2</td>\n",
       "      <td>channel16</td>\n",
       "      <td>2012</td>\n",
       "      <td>36</td>\n",
       "    </tr>\n",
       "  </tbody>\n",
       "</table>\n",
       "</div>"
      ],
      "text/plain": [
       "   subscription_id    box_id delivery_date started_week product    channel  \\\n",
       "0        1000001.0  US243134    2014-11-10     2012-W36   type2  channel16   \n",
       "1        1000001.0  US287248    2014-12-08     2012-W36   type2  channel16   \n",
       "2        1000001.0  US369486    2015-01-19     2012-W36   type2  channel16   \n",
       "3        1000001.0  US299749    2014-12-15     2012-W36   type2  channel16   \n",
       "4        1000001.0  US254024    2014-11-17     2012-W36   type2  channel16   \n",
       "\n",
       "   year  week  \n",
       "0  2012    36  \n",
       "1  2012    36  \n",
       "2  2012    36  \n",
       "3  2012    36  \n",
       "4  2012    36  "
      ]
     },
     "execution_count": 19,
     "metadata": {},
     "output_type": "execute_result"
    }
   ],
   "source": [
    "boxes.head()"
   ]
  },
  {
   "cell_type": "code",
   "execution_count": 7,
   "metadata": {
    "collapsed": false
   },
   "outputs": [],
   "source": [
    "#Convert to timestamp\n",
    "boxes.iloc[:,2] = pd.to_datetime(boxes.iloc[:,2], format='%Y-%m-%d')\n",
    "\n",
    "#Group by over 'subscription_id', 'product' and 'channel'.\n",
    "boxes_groupby = boxes.groupby(['subscription_id', 'started_week', 'product', 'channel']).agg({'delivery_date':['min', 'max', 'size']}).reset_index()\n",
    "\n",
    "#Rename columns\n",
    "boxes_groupby.columns = ['subscription_id', 'started_week', 'Product', 'Channel' ,'First_delivery_date', 'Last_delivery_date', 'No_of_boxes']\n",
    "\n",
    "#Create dummy column for cATEGORICAL variables 'product' and 'channel' \n",
    "boxes_product = pd.get_dummies(boxes_groupby.iloc[:,2])\n",
    "boxes_channel = pd.get_dummies(boxes_groupby.iloc[:,3])\n",
    "\n",
    "# Concatenate dummy variables of product and channel\n",
    "boxes_product = pd.concat([boxes_groupby, boxes_product], axis=1)\n",
    "boxes_concat = pd.concat([boxes_product, boxes_channel], axis=1)\n",
    "\n",
    "\n"
   ]
  },
  {
   "cell_type": "code",
   "execution_count": 28,
   "metadata": {
    "collapsed": false
   },
   "outputs": [
    {
     "data": {
      "text/html": [
       "<div>\n",
       "<table border=\"1\" class=\"dataframe\">\n",
       "  <thead>\n",
       "    <tr style=\"text-align: right;\">\n",
       "      <th></th>\n",
       "      <th>subscription_id</th>\n",
       "      <th>started_week</th>\n",
       "      <th>Product</th>\n",
       "      <th>Channel</th>\n",
       "      <th>First_delivery_date</th>\n",
       "      <th>Last_delivery_date</th>\n",
       "      <th>No_of_boxes</th>\n",
       "      <th>type1</th>\n",
       "      <th>type2</th>\n",
       "      <th>type3</th>\n",
       "      <th>...</th>\n",
       "      <th>channel33</th>\n",
       "      <th>channel34</th>\n",
       "      <th>channel35</th>\n",
       "      <th>channel36</th>\n",
       "      <th>channel4</th>\n",
       "      <th>channel5</th>\n",
       "      <th>channel6</th>\n",
       "      <th>channel7</th>\n",
       "      <th>channel8</th>\n",
       "      <th>channel9</th>\n",
       "    </tr>\n",
       "  </thead>\n",
       "  <tbody>\n",
       "    <tr>\n",
       "      <th>0</th>\n",
       "      <td>1000001.0</td>\n",
       "      <td>2012-W36</td>\n",
       "      <td>type2</td>\n",
       "      <td>channel16</td>\n",
       "      <td>2014-11-10</td>\n",
       "      <td>2015-01-19</td>\n",
       "      <td>6</td>\n",
       "      <td>0</td>\n",
       "      <td>1</td>\n",
       "      <td>0</td>\n",
       "      <td>...</td>\n",
       "      <td>0</td>\n",
       "      <td>0</td>\n",
       "      <td>0</td>\n",
       "      <td>0</td>\n",
       "      <td>0</td>\n",
       "      <td>0</td>\n",
       "      <td>0</td>\n",
       "      <td>0</td>\n",
       "      <td>0</td>\n",
       "      <td>0</td>\n",
       "    </tr>\n",
       "    <tr>\n",
       "      <th>1</th>\n",
       "      <td>1000002.0</td>\n",
       "      <td>2012-W39</td>\n",
       "      <td>type2</td>\n",
       "      <td>channel23</td>\n",
       "      <td>2013-01-14</td>\n",
       "      <td>2013-01-21</td>\n",
       "      <td>2</td>\n",
       "      <td>0</td>\n",
       "      <td>1</td>\n",
       "      <td>0</td>\n",
       "      <td>...</td>\n",
       "      <td>0</td>\n",
       "      <td>0</td>\n",
       "      <td>0</td>\n",
       "      <td>0</td>\n",
       "      <td>0</td>\n",
       "      <td>0</td>\n",
       "      <td>0</td>\n",
       "      <td>0</td>\n",
       "      <td>0</td>\n",
       "      <td>0</td>\n",
       "    </tr>\n",
       "    <tr>\n",
       "      <th>2</th>\n",
       "      <td>1000003.0</td>\n",
       "      <td>2012-W41</td>\n",
       "      <td>type2</td>\n",
       "      <td>channel23</td>\n",
       "      <td>2013-04-01</td>\n",
       "      <td>2013-04-01</td>\n",
       "      <td>1</td>\n",
       "      <td>0</td>\n",
       "      <td>1</td>\n",
       "      <td>0</td>\n",
       "      <td>...</td>\n",
       "      <td>0</td>\n",
       "      <td>0</td>\n",
       "      <td>0</td>\n",
       "      <td>0</td>\n",
       "      <td>0</td>\n",
       "      <td>0</td>\n",
       "      <td>0</td>\n",
       "      <td>0</td>\n",
       "      <td>0</td>\n",
       "      <td>0</td>\n",
       "    </tr>\n",
       "    <tr>\n",
       "      <th>3</th>\n",
       "      <td>1000004.0</td>\n",
       "      <td>2012-W41</td>\n",
       "      <td>type2</td>\n",
       "      <td>channel16</td>\n",
       "      <td>2013-09-25</td>\n",
       "      <td>2013-10-23</td>\n",
       "      <td>4</td>\n",
       "      <td>0</td>\n",
       "      <td>1</td>\n",
       "      <td>0</td>\n",
       "      <td>...</td>\n",
       "      <td>0</td>\n",
       "      <td>0</td>\n",
       "      <td>0</td>\n",
       "      <td>0</td>\n",
       "      <td>0</td>\n",
       "      <td>0</td>\n",
       "      <td>0</td>\n",
       "      <td>0</td>\n",
       "      <td>0</td>\n",
       "      <td>0</td>\n",
       "    </tr>\n",
       "    <tr>\n",
       "      <th>4</th>\n",
       "      <td>1000004.0</td>\n",
       "      <td>2012-W41</td>\n",
       "      <td>type2</td>\n",
       "      <td>channel23</td>\n",
       "      <td>2013-01-14</td>\n",
       "      <td>2013-09-09</td>\n",
       "      <td>21</td>\n",
       "      <td>0</td>\n",
       "      <td>1</td>\n",
       "      <td>0</td>\n",
       "      <td>...</td>\n",
       "      <td>0</td>\n",
       "      <td>0</td>\n",
       "      <td>0</td>\n",
       "      <td>0</td>\n",
       "      <td>0</td>\n",
       "      <td>0</td>\n",
       "      <td>0</td>\n",
       "      <td>0</td>\n",
       "      <td>0</td>\n",
       "      <td>0</td>\n",
       "    </tr>\n",
       "  </tbody>\n",
       "</table>\n",
       "<p>5 rows × 49 columns</p>\n",
       "</div>"
      ],
      "text/plain": [
       "   subscription_id started_week Product    Channel First_delivery_date  \\\n",
       "0        1000001.0     2012-W36   type2  channel16          2014-11-10   \n",
       "1        1000002.0     2012-W39   type2  channel23          2013-01-14   \n",
       "2        1000003.0     2012-W41   type2  channel23          2013-04-01   \n",
       "3        1000004.0     2012-W41   type2  channel16          2013-09-25   \n",
       "4        1000004.0     2012-W41   type2  channel23          2013-01-14   \n",
       "\n",
       "  Last_delivery_date  No_of_boxes  type1  type2  type3    ...     channel33  \\\n",
       "0         2015-01-19            6      0      1      0    ...             0   \n",
       "1         2013-01-21            2      0      1      0    ...             0   \n",
       "2         2013-04-01            1      0      1      0    ...             0   \n",
       "3         2013-10-23            4      0      1      0    ...             0   \n",
       "4         2013-09-09           21      0      1      0    ...             0   \n",
       "\n",
       "   channel34  channel35  channel36  channel4  channel5  channel6  channel7  \\\n",
       "0          0          0          0         0         0         0         0   \n",
       "1          0          0          0         0         0         0         0   \n",
       "2          0          0          0         0         0         0         0   \n",
       "3          0          0          0         0         0         0         0   \n",
       "4          0          0          0         0         0         0         0   \n",
       "\n",
       "   channel8  channel9  \n",
       "0         0         0  \n",
       "1         0         0  \n",
       "2         0         0  \n",
       "3         0         0  \n",
       "4         0         0  \n",
       "\n",
       "[5 rows x 49 columns]"
      ]
     },
     "execution_count": 28,
     "metadata": {},
     "output_type": "execute_result"
    }
   ],
   "source": [
    "boxes_concat.head()"
   ]
  },
  {
   "cell_type": "markdown",
   "metadata": {},
   "source": [
    "** Pickle file for Boxes** "
   ]
  },
  {
   "cell_type": "code",
   "execution_count": 35,
   "metadata": {
    "collapsed": false
   },
   "outputs": [],
   "source": [
    "#Create pickle file for Boxes datset\n",
    "with open('boxes.pickle', 'wb') as f:\n",
    "    pickle.dump(boxes_concat, f)"
   ]
  },
  {
   "cell_type": "markdown",
   "metadata": {},
   "source": [
    "# Cancels Tables"
   ]
  },
  {
   "cell_type": "markdown",
   "metadata": {},
   "source": [
    "** Data Explration **\n",
    "* This table has 5 columns named **'subscription_id'**,\t**'event_type'**',\t**'event_date'**.\n",
    "* **'event_date'** is given as string which needs to be converted to Timestamp \n",
    "\n",
    "** Data Cleaning **\n",
    "* There are approx 2lacs of duplicate rows present in this datset. Remove them.\n",
    "\n",
    "** Feature Engineering **\n",
    "* Duration between the first event date and cancellation date for each subscriber will be calculated.\n",
    "* Total no of cancellation in the total subscription period for each subscriber is calculated.\n",
    "* Convert the **event_type** to numerical features using one-hot encoding scheme. It is  creating dummy variables for all the values of **event_type**\n",
    "\n",
    "** Feature Insights **\n",
    "* **First_event_date**: When reactivation/cancellation occured for the first time.\n",
    "* **Last_event_date**: When cancellation occured for the last time.\n",
    "* **Total_cancellation**: Total no of times subscriber cancelled the subscription before final cancellation.\n",
    "* **Total_reactivation**: Total no of times subscriber reactivate the subscription before final cancellation.\n",
    "\n"
   ]
  },
  {
   "cell_type": "code",
   "execution_count": 36,
   "metadata": {
    "collapsed": false
   },
   "outputs": [
    {
     "data": {
      "text/html": [
       "<div>\n",
       "<table border=\"1\" class=\"dataframe\">\n",
       "  <thead>\n",
       "    <tr style=\"text-align: right;\">\n",
       "      <th></th>\n",
       "      <th>subscription_id</th>\n",
       "      <th>event_type</th>\n",
       "      <th>event_date</th>\n",
       "    </tr>\n",
       "  </thead>\n",
       "  <tbody>\n",
       "    <tr>\n",
       "      <th>0</th>\n",
       "      <td>1000001</td>\n",
       "      <td>cancellation</td>\n",
       "      <td>2015-02-25</td>\n",
       "    </tr>\n",
       "    <tr>\n",
       "      <th>1</th>\n",
       "      <td>1000008</td>\n",
       "      <td>reactivation</td>\n",
       "      <td>2017-01-07</td>\n",
       "    </tr>\n",
       "    <tr>\n",
       "      <th>2</th>\n",
       "      <td>1000008</td>\n",
       "      <td>cancellation</td>\n",
       "      <td>2016-12-10</td>\n",
       "    </tr>\n",
       "    <tr>\n",
       "      <th>3</th>\n",
       "      <td>1000008</td>\n",
       "      <td>reactivation</td>\n",
       "      <td>2016-11-29</td>\n",
       "    </tr>\n",
       "    <tr>\n",
       "      <th>4</th>\n",
       "      <td>1000008</td>\n",
       "      <td>reactivation</td>\n",
       "      <td>2017-11-03</td>\n",
       "    </tr>\n",
       "  </tbody>\n",
       "</table>\n",
       "</div>"
      ],
      "text/plain": [
       "   subscription_id    event_type  event_date\n",
       "0          1000001  cancellation  2015-02-25\n",
       "1          1000008  reactivation  2017-01-07\n",
       "2          1000008  cancellation  2016-12-10\n",
       "3          1000008  reactivation  2016-11-29\n",
       "4          1000008  reactivation  2017-11-03"
      ]
     },
     "execution_count": 36,
     "metadata": {},
     "output_type": "execute_result"
    }
   ],
   "source": [
    "cancels.head()"
   ]
  },
  {
   "cell_type": "code",
   "execution_count": 38,
   "metadata": {
    "collapsed": true
   },
   "outputs": [],
   "source": [
    "#Remove all the duplicate rows. It will remove approx 2 Lacs rows.\n",
    "#Initial rows:1408824 entries #Later rows:1269550 entries\n",
    "cancels = cancels.drop_duplicates()"
   ]
  },
  {
   "cell_type": "code",
   "execution_count": 40,
   "metadata": {
    "collapsed": false
   },
   "outputs": [],
   "source": [
    "#Convert to timestamp\n",
    "cancels.iloc[:,2] = pd.to_datetime(cancels.iloc[:,2], format='%Y-%m-%d')\n",
    "\n",
    "#Create dummy column for CATEGORICAL variables 'event_type'.\n",
    "cancels_event_type = pd.get_dummies(cancels.iloc[:,1])\n",
    "\n",
    "# Concatenate dummy variables of event_type\n",
    "cancels = pd.concat([cancels, cancels_event_type], axis=1)\n",
    "    \n",
    "#Group by over 'subscription_id'.\n",
    "cancels_groupby = cancels.groupby('subscription_id').agg({'event_date':['min', 'max'], \n",
    "                                                          'cancellation':['sum'], 'reactivation':['sum']}).reset_index()\n",
    "\n",
    "#Rename columns\n",
    "cancels_groupby.columns = ['subscription_id', 'First_event_date', 'Last_event_date' ,'Total_cancellation','Total_reactivation']\n"
   ]
  },
  {
   "cell_type": "code",
   "execution_count": 41,
   "metadata": {
    "collapsed": false
   },
   "outputs": [
    {
     "data": {
      "text/html": [
       "<div>\n",
       "<table border=\"1\" class=\"dataframe\">\n",
       "  <thead>\n",
       "    <tr style=\"text-align: right;\">\n",
       "      <th></th>\n",
       "      <th>subscription_id</th>\n",
       "      <th>First_event_date</th>\n",
       "      <th>Last_event_date</th>\n",
       "      <th>Total_cancellation</th>\n",
       "      <th>Total_reactivation</th>\n",
       "    </tr>\n",
       "  </thead>\n",
       "  <tbody>\n",
       "    <tr>\n",
       "      <th>0</th>\n",
       "      <td>1000001</td>\n",
       "      <td>2015-02-25</td>\n",
       "      <td>2015-02-25</td>\n",
       "      <td>1</td>\n",
       "      <td>0</td>\n",
       "    </tr>\n",
       "    <tr>\n",
       "      <th>1</th>\n",
       "      <td>1000008</td>\n",
       "      <td>2013-07-08</td>\n",
       "      <td>2017-11-04</td>\n",
       "      <td>4</td>\n",
       "      <td>3</td>\n",
       "    </tr>\n",
       "    <tr>\n",
       "      <th>2</th>\n",
       "      <td>1000010</td>\n",
       "      <td>2015-04-02</td>\n",
       "      <td>2016-05-07</td>\n",
       "      <td>2</td>\n",
       "      <td>1</td>\n",
       "    </tr>\n",
       "    <tr>\n",
       "      <th>3</th>\n",
       "      <td>1000012</td>\n",
       "      <td>2015-10-24</td>\n",
       "      <td>2016-03-12</td>\n",
       "      <td>2</td>\n",
       "      <td>1</td>\n",
       "    </tr>\n",
       "    <tr>\n",
       "      <th>4</th>\n",
       "      <td>1000018</td>\n",
       "      <td>2015-06-07</td>\n",
       "      <td>2016-03-12</td>\n",
       "      <td>4</td>\n",
       "      <td>4</td>\n",
       "    </tr>\n",
       "  </tbody>\n",
       "</table>\n",
       "</div>"
      ],
      "text/plain": [
       "   subscription_id First_event_date Last_event_date  Total_cancellation  \\\n",
       "0          1000001       2015-02-25      2015-02-25                   1   \n",
       "1          1000008       2013-07-08      2017-11-04                   4   \n",
       "2          1000010       2015-04-02      2016-05-07                   2   \n",
       "3          1000012       2015-10-24      2016-03-12                   2   \n",
       "4          1000018       2015-06-07      2016-03-12                   4   \n",
       "\n",
       "   Total_reactivation  \n",
       "0                   0  \n",
       "1                   3  \n",
       "2                   1  \n",
       "3                   1  \n",
       "4                   4  "
      ]
     },
     "execution_count": 41,
     "metadata": {},
     "output_type": "execute_result"
    }
   ],
   "source": [
    "cancels_groupby.head()"
   ]
  },
  {
   "cell_type": "markdown",
   "metadata": {
    "collapsed": false
   },
   "source": [
    "** Pickle file for Cancels** "
   ]
  },
  {
   "cell_type": "code",
   "execution_count": 42,
   "metadata": {
    "collapsed": false
   },
   "outputs": [],
   "source": [
    "#Create pickle file for Cancels datset\n",
    "with open('cancels.pickle', 'wb') as f:\n",
    "    pickle.dump(cancels_groupby, f)"
   ]
  },
  {
   "cell_type": "code",
   "execution_count": null,
   "metadata": {
    "collapsed": true
   },
   "outputs": [],
   "source": []
  }
 ],
 "metadata": {
  "kernelspec": {
   "display_name": "Python 3",
   "language": "python",
   "name": "python3"
  },
  "language_info": {
   "codemirror_mode": {
    "name": "ipython",
    "version": 3
   },
   "file_extension": ".py",
   "mimetype": "text/x-python",
   "name": "python",
   "nbconvert_exporter": "python",
   "pygments_lexer": "ipython3",
   "version": "3.6.0"
  }
 },
 "nbformat": 4,
 "nbformat_minor": 2
}
