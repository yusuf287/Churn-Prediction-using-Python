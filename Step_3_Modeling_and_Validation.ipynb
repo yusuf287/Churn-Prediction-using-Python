{
 "cells": [
  {
   "cell_type": "markdown",
   "metadata": {
    "collapsed": true
   },
   "source": [
    "# Problem Statement:\n",
    "\n",
    "** Explore the datasets and develop a model to predict customer churn over time. **\n",
    "\n",
    "**By:** Yusuf Firoz"
   ]
  },
  {
   "cell_type": "raw",
   "metadata": {},
   "source": [
    "The process is divided the whole model building into 4 parts:\n",
    "    Step 1. Data PreProcessing\n",
    "    Step 2. Final Dataset Prepearation\n",
    "    Step 3. Model Building and Prediction"
   ]
  },
  {
   "cell_type": "markdown",
   "metadata": {},
   "source": [
    "## Step 3. Model Building and Prediction"
   ]
  },
  {
   "cell_type": "markdown",
   "metadata": {},
   "source": [
    "**I have used following supervised learning algorithms.**\n",
    "\n",
    "***Random Forest Classifier***\n",
    "* It forms a tree by selecting subsets of data randomly. This Process is repeated many times until it becomes a forest. Then decision is made on the basis of predictions from different trees.\n",
    "* It can easily deal with big dataset and gives better accuracy.\n",
    "* I believe this is a good model for the data.\n",
    "\n",
    "\n",
    "***Logistic Regression***\n",
    "* It is one of the simple and fast supervised algorithms.\n",
    "\n",
    "***Stochastic Gradient Descent Classifier***\n",
    "* Its beauty is that it is way faster than most of the supervised algorithms.\n"
   ]
  },
  {
   "cell_type": "markdown",
   "metadata": {},
   "source": [
    "** Import required libraries**"
   ]
  },
  {
   "cell_type": "code",
   "execution_count": 2,
   "metadata": {
    "collapsed": true
   },
   "outputs": [],
   "source": [
    "import numpy as np\n",
    "import pandas as pd\n",
    "from datetime import datetime\n",
    "from time import time\n",
    "import pickle"
   ]
  },
  {
   "cell_type": "code",
   "execution_count": 3,
   "metadata": {
    "collapsed": false
   },
   "outputs": [],
   "source": [
    "import matplotlib.pylab as plt\n",
    "from IPython.display import display \n",
    "%matplotlib inline\n"
   ]
  },
  {
   "cell_type": "code",
   "execution_count": 5,
   "metadata": {
    "collapsed": false
   },
   "outputs": [],
   "source": [
    "from sklearn.preprocessing import StandardScaler\n",
    "from sklearn.model_selection import train_test_split,  cross_val_score\n",
    "from sklearn.ensemble import  RandomForestClassifier\n",
    "from sklearn.linear_model import LogisticRegression, SGDClassifier\n",
    "from sklearn.metrics import confusion_matrix, auc, precision_score, recall_score, roc_curve, f1_score, roc_auc_score, classification_report\n"
   ]
  },
  {
   "cell_type": "code",
   "execution_count": 6,
   "metadata": {
    "collapsed": true
   },
   "outputs": [],
   "source": [
    "final = pd.read_pickle('final.pickle')"
   ]
  },
  {
   "cell_type": "markdown",
   "metadata": {},
   "source": [
    "## Data preparation for training"
   ]
  },
  {
   "cell_type": "code",
   "execution_count": 8,
   "metadata": {
    "collapsed": false
   },
   "outputs": [],
   "source": [
    "#Create a copy of final dataset\n",
    "final_copy = final.copy()"
   ]
  },
  {
   "cell_type": "markdown",
   "metadata": {},
   "source": [
    "**Create Predictor(X) and Dependent(Y) variable ** "
   ]
  },
  {
   "cell_type": "code",
   "execution_count": 10,
   "metadata": {
    "collapsed": false
   },
   "outputs": [],
   "source": [
    "# Create Predictor(X) and Dependent(Y) variable\n",
    "Y = final_copy[['churn_status']].values.ravel() \n",
    "X = final_copy.drop('churn_status', axis=1).values.astype('float64')\n"
   ]
  },
  {
   "cell_type": "markdown",
   "metadata": {},
   "source": [
    "**Normalise data for better models**"
   ]
  },
  {
   "cell_type": "code",
   "execution_count": 13,
   "metadata": {
    "collapsed": false
   },
   "outputs": [],
   "source": [
    "# Perform normalization of datsset\n",
    "scaler = StandardScaler()\n",
    "X = scaler.fit_transform(X)"
   ]
  },
  {
   "cell_type": "markdown",
   "metadata": {},
   "source": [
    "**Splitting data into training and testing dataset**"
   ]
  },
  {
   "cell_type": "code",
   "execution_count": 14,
   "metadata": {
    "collapsed": false
   },
   "outputs": [
    {
     "name": "stdout",
     "output_type": "stream",
     "text": [
      "Size of training set: 551072.\n",
      "Size of testing set: 236174.\n"
     ]
    }
   ],
   "source": [
    "X_train, X_test, y_train, y_test = train_test_split(X, Y, test_size=0.3, random_state=101)\n",
    "\n",
    "print (\"Size of training set: {}.\".format(X_train.shape[0]))\n",
    "print (\"Size of testing set: {}.\".format(X_test.shape[0]))"
   ]
  },
  {
   "cell_type": "markdown",
   "metadata": {},
   "source": [
    "### Random Forest Classifier"
   ]
  },
  {
   "cell_type": "markdown",
   "metadata": {},
   "source": [
    "**Training and Prediction**"
   ]
  },
  {
   "cell_type": "code",
   "execution_count": 15,
   "metadata": {
    "collapsed": false
   },
   "outputs": [
    {
     "name": "stdout",
     "output_type": "stream",
     "text": [
      "Random Forest Classifier\n",
      "AUC ROC: 1.0\n"
     ]
    }
   ],
   "source": [
    "clf_RFC = RandomForestClassifier(n_estimators=100)  \n",
    "clf_RFC.fit(X_train, y_train) \n",
    "y_pred_RFC = clf_RFC.predict(X_test)\n",
    "\n",
    "print(\"Random Forest Classifier\")\n",
    "print(\"AUC ROC: {}\".format(roc_auc_score(y_test, y_pred_RFC)))"
   ]
  },
  {
   "cell_type": "markdown",
   "metadata": {},
   "source": [
    "**Validation**"
   ]
  },
  {
   "cell_type": "code",
   "execution_count": 16,
   "metadata": {
    "collapsed": false
   },
   "outputs": [
    {
     "name": "stdout",
     "output_type": "stream",
     "text": [
      "Accuracy for train dataset: 1.0\n",
      "Accuracy for test dataset: 1.0\n",
      "F1 Score: 1.0\n",
      "Precision: 1.0\n",
      "Recall: 1.0\n"
     ]
    },
    {
     "data": {
      "text/plain": [
       "array([1., 1., 1.])"
      ]
     },
     "execution_count": 16,
     "metadata": {},
     "output_type": "execute_result"
    }
   ],
   "source": [
    "print(\"Accuracy for train dataset: {}\".format(clf_RFC.score(X_train, y_train)))\n",
    "print(\"Accuracy for test dataset: {}\".format(clf_RFC.score(X_test, y_test)))\n",
    "\n",
    "print(\"F1 Score: {}\".format(f1_score(y_test, y_pred_RFC)))\n",
    "print(\"Precision: {}\".format(precision_score(y_test, y_pred_RFC)))\n",
    "print(\"Recall: {}\".format(recall_score(y_test, y_pred_RFC)))\n",
    "\n",
    "# Check ROC AUC with Cross Validation\n",
    "cross_val_score(clf_RFC, X_train, y_train, cv=3, scoring=\"roc_auc\")"
   ]
  },
  {
   "cell_type": "code",
   "execution_count": 17,
   "metadata": {
    "collapsed": false,
    "scrolled": true
   },
   "outputs": [
    {
     "name": "stdout",
     "output_type": "stream",
     "text": [
      "=====================================================\n",
      "Classification report:\n",
      "-----------------------------------------------------\n",
      "             precision    recall  f1-score   support\n",
      "\n",
      "          0       1.00      1.00      1.00     18763\n",
      "          1       1.00      1.00      1.00    217411\n",
      "\n",
      "avg / total       1.00      1.00      1.00    236174\n",
      "\n",
      "=====================================================\n",
      "Confusion matrix:\n",
      "-----------------------------------------------------\n",
      "[[ 18763      0]\n",
      " [     0 217411]]\n",
      "=====================================================\n"
     ]
    }
   ],
   "source": [
    "print('=====================================================')\n",
    "print('Classification report:')\n",
    "print('-----------------------------------------------------')\n",
    "print(classification_report(y_test, y_pred_RFC))\n",
    "print('=====================================================')\n",
    "print('Confusion matrix:')\n",
    "print('-----------------------------------------------------')\n",
    "print(confusion_matrix(y_test, y_pred_RFC))\n",
    "print('=====================================================')"
   ]
  },
  {
   "cell_type": "markdown",
   "metadata": {
    "collapsed": true
   },
   "source": [
    "### Logistic Regression Model"
   ]
  },
  {
   "cell_type": "markdown",
   "metadata": {},
   "source": [
    "**Training and Prediction**"
   ]
  },
  {
   "cell_type": "code",
   "execution_count": 18,
   "metadata": {
    "collapsed": false
   },
   "outputs": [
    {
     "name": "stdout",
     "output_type": "stream",
     "text": [
      "LogisticRegression Classifier\n",
      "AUC ROC: 0.9999977002083611\n"
     ]
    }
   ],
   "source": [
    "clf_LR = LogisticRegression(random_state=0)        \n",
    "clf_LR.fit(X_train, y_train) \n",
    "y_pred_LR = clf_LR.predict(X_test)\n",
    "\n",
    "print(\"LogisticRegression Classifier\")\n",
    "print(\"AUC ROC: {}\".format(roc_auc_score(y_test, y_pred_LR)))"
   ]
  },
  {
   "cell_type": "markdown",
   "metadata": {},
   "source": [
    "**Validation**"
   ]
  },
  {
   "cell_type": "code",
   "execution_count": 20,
   "metadata": {
    "collapsed": false
   },
   "outputs": [
    {
     "name": "stdout",
     "output_type": "stream",
     "text": [
      "Accuracy for train dataset: 0.9999981853550897\n",
      "Accuracy for test dataset: 0.999995765833665\n",
      "F1 Score: 0.999997700203072\n",
      "Precision: 1.0\n",
      "Recall: 0.9999954004167222\n"
     ]
    },
    {
     "data": {
      "text/plain": [
       "array([1.        , 1.        , 0.99999995])"
      ]
     },
     "execution_count": 20,
     "metadata": {},
     "output_type": "execute_result"
    }
   ],
   "source": [
    "print(\"Accuracy for train dataset: {}\".format(clf_LR.score(X_train, y_train)))\n",
    "print(\"Accuracy for test dataset: {}\".format(clf_LR.score(X_test, y_test)))\n",
    "\n",
    "print(\"F1 Score: {}\".format(f1_score(y_test, y_pred_LR)))\n",
    "print(\"Precision: {}\".format(precision_score(y_test, y_pred_LR)))\n",
    "print(\"Recall: {}\".format(recall_score(y_test, y_pred_LR)))\n",
    "\n",
    "# Check ROC AUC with Cross Validation\n",
    "cross_val_score(clf_LR, X_train, y_train, cv=3, scoring=\"roc_auc\")"
   ]
  },
  {
   "cell_type": "code",
   "execution_count": 21,
   "metadata": {
    "collapsed": false
   },
   "outputs": [
    {
     "name": "stdout",
     "output_type": "stream",
     "text": [
      "=====================================================\n",
      "Classification report:\n",
      "-----------------------------------------------------\n",
      "             precision    recall  f1-score   support\n",
      "\n",
      "          0       1.00      1.00      1.00     18763\n",
      "          1       1.00      1.00      1.00    217411\n",
      "\n",
      "avg / total       1.00      1.00      1.00    236174\n",
      "\n",
      "=====================================================\n",
      "Confusion matrix:\n",
      "-----------------------------------------------------\n",
      "[[ 18763      0]\n",
      " [     1 217410]]\n",
      "=====================================================\n"
     ]
    }
   ],
   "source": [
    "print('=====================================================')\n",
    "print('Classification report:')\n",
    "print('-----------------------------------------------------')\n",
    "print(classification_report(y_test, clf_LR.predict(X_test)))\n",
    "print('=====================================================')\n",
    "print('Confusion matrix:')\n",
    "print('-----------------------------------------------------')\n",
    "print(confusion_matrix(y_test, clf_LR.predict(X_test)))\n",
    "print('=====================================================')"
   ]
  },
  {
   "cell_type": "code",
   "execution_count": null,
   "metadata": {
    "collapsed": true
   },
   "outputs": [],
   "source": []
  },
  {
   "cell_type": "markdown",
   "metadata": {},
   "source": [
    "### Stochastic Gradient Descent Classifier (SGDC)"
   ]
  },
  {
   "cell_type": "markdown",
   "metadata": {},
   "source": [
    "**Training and Prediction**"
   ]
  },
  {
   "cell_type": "code",
   "execution_count": 22,
   "metadata": {
    "collapsed": false
   },
   "outputs": [
    {
     "name": "stdout",
     "output_type": "stream",
     "text": [
      "Stochastic Gradient Descent Classifier\n",
      "AUC ROC: 0.9999733518094122\n"
     ]
    }
   ],
   "source": [
    "clf_SGDC = SGDClassifier(random_state=0)\n",
    "clf_SGDC.fit(X_train, y_train) \n",
    "y_pred_SGDC = clf_SGDC.predict(X_test)\n",
    "\n",
    "print(\"Stochastic Gradient Descent Classifier\")\n",
    "print(\"AUC ROC: {}\".format(roc_auc_score(y_test, y_pred_SGDC)))"
   ]
  },
  {
   "cell_type": "markdown",
   "metadata": {},
   "source": [
    "**Validation**"
   ]
  },
  {
   "cell_type": "code",
   "execution_count": 23,
   "metadata": {
    "collapsed": false
   },
   "outputs": [
    {
     "name": "stdout",
     "output_type": "stream",
     "text": [
      "Accuracy for train dataset: 0.9999927414203589\n",
      "Accuracy for test dataset: 0.999995765833665\n",
      "F1 Score: 0.9999977002136502\n",
      "Precision: 0.9999954004378783\n",
      "Recall: 1.0\n"
     ]
    },
    {
     "data": {
      "text/plain": [
       "array([1.        , 0.99999999, 1.        ])"
      ]
     },
     "execution_count": 23,
     "metadata": {},
     "output_type": "execute_result"
    }
   ],
   "source": [
    "print(\"Accuracy for train dataset: {}\".format(clf_SGDC.score(X_train, y_train)))\n",
    "print(\"Accuracy for test dataset: {}\".format(clf_SGDC.score(X_test, y_test)))\n",
    "\n",
    "print(\"F1 Score: {}\".format(f1_score(y_test, y_pred_SGDC)))\n",
    "print(\"Precision: {}\".format(precision_score(y_test, y_pred_SGDC)))\n",
    "print(\"Recall: {}\".format(recall_score(y_test, y_pred_SGDC)))\n",
    "\n",
    "# Check ROC AUC with Cross Validation\n",
    "cross_val_score(clf_SGDC, X_train, y_train, cv=3, scoring=\"roc_auc\")"
   ]
  },
  {
   "cell_type": "code",
   "execution_count": 24,
   "metadata": {
    "collapsed": false
   },
   "outputs": [
    {
     "name": "stdout",
     "output_type": "stream",
     "text": [
      "=====================================================\n",
      "Classification report:\n",
      "-----------------------------------------------------\n",
      "             precision    recall  f1-score   support\n",
      "\n",
      "          0       1.00      1.00      1.00     18763\n",
      "          1       1.00      1.00      1.00    217411\n",
      "\n",
      "avg / total       1.00      1.00      1.00    236174\n",
      "\n",
      "=====================================================\n",
      "Confusion matrix:\n",
      "-----------------------------------------------------\n",
      "[[ 18762      1]\n",
      " [     0 217411]]\n",
      "=====================================================\n"
     ]
    }
   ],
   "source": [
    "print('=====================================================')\n",
    "print('Classification report:')\n",
    "print('-----------------------------------------------------')\n",
    "print(classification_report(y_test, y_pred_SGDC))\n",
    "print('=====================================================')\n",
    "print('Confusion matrix:')\n",
    "print('-----------------------------------------------------')\n",
    "print(confusion_matrix(y_test, y_pred_SGDC))\n",
    "print('=====================================================')"
   ]
  },
  {
   "cell_type": "code",
   "execution_count": null,
   "metadata": {
    "collapsed": true
   },
   "outputs": [],
   "source": []
  },
  {
   "cell_type": "markdown",
   "metadata": {},
   "source": [
    "### Plot importance features"
   ]
  },
  {
   "cell_type": "code",
   "execution_count": 26,
   "metadata": {
    "collapsed": false
   },
   "outputs": [
    {
     "data": {
      "image/png": "[encoded data removed]",
      "text/plain": [
       "<matplotlib.figure.Figure at 0xd2ef9b0>"
      ]
     },
     "metadata": {},
     "output_type": "display_data"
    }
   ],
   "source": [
    "top_features = clf_RFC.feature_importances_\n",
    "std = np.std([clf_RFC.feature_importances_ for tree in clf_RFC.estimators_], axis=0)\n",
    "pos = np.argsort(top_features)[::-1]\n",
    "\n",
    "# Plotting the important feature of the random forest\n",
    "plt.figure(figsize=(20, 10))\n",
    "plt.bar(range(X.shape[1]), top_features[pos],color=\"g\", yerr=std[pos], align=\"center\")\n",
    "plt.xticks(range(X.shape[1]), pos)\n",
    "plt.xlim([-1, X.shape[1]])\n",
    "plt.title(\"Features\")\n",
    "plt.show()"
   ]
  },
  {
   "cell_type": "code",
   "execution_count": 30,
   "metadata": {
    "collapsed": false
   },
   "outputs": [],
   "source": [
    "important_features = list(final_copy.drop('churn_status', axis=1).iloc[:,[56,59,43,58,44,0,14,2,1,57,5,13,3,6,50,4,47,46,16,45,48,24,49,25]].columns)"
   ]
  },
  {
   "cell_type": "code",
   "execution_count": 36,
   "metadata": {
    "collapsed": false
   },
   "outputs": [
    {
     "data": {
      "text/plain": [
       "['Total_cancellation',\n",
       " 'Gap_of_Cancellation',\n",
       " 'Total_no_of_Pauses',\n",
       " 'Total_delivery_duration',\n",
       " 'Total_pause_duration',\n",
       " 'No_of_boxes',\n",
       " 'channel16',\n",
       " 'type2',\n",
       " 'type1',\n",
       " 'Total_reactivation',\n",
       " 'type5',\n",
       " 'channel15']"
      ]
     },
     "execution_count": 36,
     "metadata": {},
     "output_type": "execute_result"
    }
   ],
   "source": [
    "important_features[:12]"
   ]
  },
  {
   "cell_type": "code",
   "execution_count": null,
   "metadata": {
    "collapsed": true
   },
   "outputs": [],
   "source": []
  },
  {
   "cell_type": "markdown",
   "metadata": {
    "collapsed": true
   },
   "source": [
    "# Conclusion"
   ]
  },
  {
   "cell_type": "markdown",
   "metadata": {},
   "source": [
    "### Accuracy Table:\n",
    "\n",
    "|     Algorithm     | Random Forest Classifier | Logistic Regression | Stochastic Gradient Descent Classifierl |\n",
    "| :------------: | :-----------------: | :---------------: | :-------------: | \n",
    "| AUC ROC |    1.0              |      0.9999             |      0.9999           |\n",
    "| F1 Score        |      1.0                 |      0.9999             |   0.9999       |\n",
    "| Precision        |      1.0                 |      1.0             |   0.9999       |\n",
    "| Recall        |      1.0                 |      0.9999             |   1.0       |\n",
    "\n",
    "\n",
    "\n",
    "Random Forest Classifier is giving the best accuracy i.e. 100%. Other two classifiers are also approximately 100% efficient.\n",
    "\n",
    "**Factors affecting the Customer Churn:**\n",
    "\n",
    "**From the top features we can conclude that following features are playing role in the customer churn.**\n",
    "* **Total_cancellation:** Customers are more prone to churn if they have cancelled before. \n",
    "* **Gap_of_Cancellation:** Duration between cancellation date and last delivery date.\n",
    "* **Total_no_of_Pauses:** Total no of pauses taken by subscriber before cancellation.\n",
    "* **Total_delivery_duration:** Duration between the first and last delivery.\n",
    "* **Total_pause_duration:** Duration between the first and last pause.\n",
    "* **No_of_boxes:** No of boxes delivered to the customer.\n",
    "* **channel16 & channel15:** Customers coming from **channel15** and **channel16** are more prone to churn.\n",
    "* **type2, type5 & type1:** Customers who recieved box type **type2**, **type5** & **type1** are more prone to churn.\n",
    "* **Total_reactivation:** No. of times customers reactivated the subscription before.\n"
   ]
  },
  {
   "cell_type": "markdown",
   "metadata": {
    "collapsed": true
   },
   "source": [
    "# Thanks"
   ]
  },
  {
   "cell_type": "code",
   "execution_count": null,
   "metadata": {
    "collapsed": true
   },
   "outputs": [],
   "source": []
  }
 ],
 "metadata": {
  "kernelspec": {
   "display_name": "Python 3",
   "language": "python",
   "name": "python3"
  },
  "language_info": {
   "codemirror_mode": {
    "name": "ipython",
    "version": 3
   },
   "file_extension": ".py",
   "mimetype": "text/x-python",
   "name": "python",
   "nbconvert_exporter": "python",
   "pygments_lexer": "ipython3",
   "version": "3.6.0"
  }
 },
 "nbformat": 4,
 "nbformat_minor": 2
}
